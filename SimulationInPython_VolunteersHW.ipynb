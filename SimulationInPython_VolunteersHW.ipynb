{
  "nbformat": 4,
  "nbformat_minor": 0,
  "metadata": {
    "colab": {
      "provenance": [],
      "include_colab_link": true
    },
    "kernelspec": {
      "name": "python3",
      "display_name": "Python 3"
    },
    "language_info": {
      "name": "python"
    }
  },
  "cells": [
    {
      "cell_type": "markdown",
      "metadata": {
        "id": "view-in-github",
        "colab_type": "text"
      },
      "source": [
        "<a href=\"https://colab.research.google.com/github/KayleeM05/KayleeM05/blob/CMU-Math4AI-Work/SimulationInPython_VolunteersHW.ipynb\" target=\"_parent\"><img src=\"https://colab.research.google.com/assets/colab-badge.svg\" alt=\"Open In Colab\"/></a>"
      ]
    },
    {
      "cell_type": "code",
      "source": [
        "import numpy as np\n",
        "\n",
        "numTrials = 10**7"
      ],
      "metadata": {
        "id": "FY12U_c5AJbp"
      },
      "execution_count": 5,
      "outputs": []
    },
    {
      "cell_type": "markdown",
      "source": [
        "# Q1\n"
      ],
      "metadata": {
        "id": "QNwVuVSXa6CV"
      }
    },
    {
      "cell_type": "code",
      "source": [
        "## Q1\n",
        "numChildrenOnTeam = 10\n",
        "p = 0.75\n",
        "\n",
        "numVolunteers = np.random.binomial(numChildrenOnTeam, p, numTrials)\n",
        "print('Expected number of volunteers:', np.mean(numVolunteers))"
      ],
      "metadata": {
        "colab": {
          "base_uri": "https://localhost:8080/"
        },
        "id": "6WqWCYyQa8U6",
        "outputId": "ff2d0b5b-b85b-4faa-f1aa-0c57903be56e"
      },
      "execution_count": 7,
      "outputs": [
        {
          "output_type": "stream",
          "name": "stdout",
          "text": [
            "Expected number of volunteers: 7.5001068\n"
          ]
        }
      ]
    },
    {
      "cell_type": "markdown",
      "source": [
        "# Q2\n"
      ],
      "metadata": {
        "id": "7Veg4V5K49Yy"
      }
    },
    {
      "cell_type": "code",
      "source": [
        "## Q2\n",
        "\n",
        "\n",
        "numStands = 8\n",
        "numExpectedStands = np.minimum(numVolunteers, numStands)\n",
        "print('Expected number of Stands:', np.mean(numExpectedStands))\n"
      ],
      "metadata": {
        "colab": {
          "base_uri": "https://localhost:8080/"
        },
        "id": "PZDZvvJd4lPN",
        "outputId": "c51e3e8f-aa6e-42fe-d4e1-b0d541e30601"
      },
      "execution_count": 8,
      "outputs": [
        {
          "output_type": "stream",
          "name": "stdout",
          "text": [
            "Expected number of Stands: 7.1997227\n"
          ]
        }
      ]
    },
    {
      "cell_type": "markdown",
      "source": [
        "# Q3"
      ],
      "metadata": {
        "id": "_GFWgREh4vne"
      }
    },
    {
      "cell_type": "code",
      "source": [
        "## Q3\n",
        "\n",
        "n = numExpectedStands\n",
        "intensity = 150 * n\n",
        "\n",
        "numExpectedCups = np.random.poisson(intensity, numTrials)\n",
        "print('Expected number of expected cups:', np.mean(numExpectedCups))"
      ],
      "metadata": {
        "colab": {
          "base_uri": "https://localhost:8080/"
        },
        "id": "0eM7CLo54p2R",
        "outputId": "28be63a7-d0cb-43b8-da95-fab89b65ce07"
      },
      "execution_count": 9,
      "outputs": [
        {
          "output_type": "stream",
          "name": "stdout",
          "text": [
            "Expected number of expected cups: 1079.970491\n"
          ]
        }
      ]
    },
    {
      "cell_type": "markdown",
      "source": [
        "# Q4"
      ],
      "metadata": {
        "id": "8z2AD2BD4xbb"
      }
    },
    {
      "cell_type": "code",
      "source": [
        "## Q4\n",
        "\n",
        "import numpy as np\n",
        "\n",
        "numMaxCups = 1000\n",
        "\n",
        "cupsSold = np.minimum(numExpectedCups, numMaxCups)\n",
        "\n",
        "print('Expected number of cups being sold:', np.mean(cupsSold))"
      ],
      "metadata": {
        "colab": {
          "base_uri": "https://localhost:8080/"
        },
        "id": "Stn-EUen4rtg",
        "outputId": "e08633f2-3ae5-4f26-b7d5-ab267bd6016c"
      },
      "execution_count": 10,
      "outputs": [
        {
          "output_type": "stream",
          "name": "stdout",
          "text": [
            "Expected number of cups being sold: 962.1000997\n"
          ]
        }
      ]
    },
    {
      "cell_type": "markdown",
      "source": [
        "# Q5\n"
      ],
      "metadata": {
        "id": "VWmYdG8c4yU-"
      }
    },
    {
      "cell_type": "code",
      "source": [
        "## Q5\n",
        "\n",
        "Earnings = 1\n",
        "Boba = 8\n",
        "\n",
        "numChildEarnings = 1 * cupsSold\n",
        "numVolunteerBoba = 8 * numVolunteers\n",
        "numExpectedFundraisingAmount = numChildEarnings - numVolunteerBoba\n",
        "\n",
        "\n",
        "print('Expected amount of fundraising for basketball:', np.mean(numExpectedFundraisingAmount))"
      ],
      "metadata": {
        "colab": {
          "base_uri": "https://localhost:8080/"
        },
        "id": "Fj0z0e4I4tDu",
        "outputId": "cc1d0099-6df1-42e6-93e9-c0e2a8fffa47"
      },
      "execution_count": 12,
      "outputs": [
        {
          "output_type": "stream",
          "name": "stdout",
          "text": [
            "Expected amount of fundraising for basketball: 902.0992453\n"
          ]
        }
      ]
    }
  ]
}