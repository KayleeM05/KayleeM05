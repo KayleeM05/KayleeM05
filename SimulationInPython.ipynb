{
  "nbformat": 4,
  "nbformat_minor": 0,
  "metadata": {
    "colab": {
      "provenance": [],
      "include_colab_link": true
    },
    "kernelspec": {
      "name": "python3",
      "display_name": "Python 3"
    },
    "language_info": {
      "name": "python"
    }
  },
  "cells": [
    {
      "cell_type": "markdown",
      "metadata": {
        "id": "view-in-github",
        "colab_type": "text"
      },
      "source": [
        "<a href=\"https://colab.research.google.com/github/KayleeM05/KayleeM05/blob/CMU-Math4AI-Work/SimulationInPython.ipynb\" target=\"_parent\"><img src=\"https://colab.research.google.com/assets/colab-badge.svg\" alt=\"Open In Colab\"/></a>"
      ]
    },
    {
      "cell_type": "markdown",
      "source": [
        "## Q1.1"
      ],
      "metadata": {
        "id": "FzCLzzSAWXyx"
      }
    },
    {
      "cell_type": "code",
      "source": [
        "import numpy as np\n",
        "\n",
        "numTrials = 10**7\n",
        "intensity = 7.5\n",
        "\n",
        "numCustomers = np.random.poisson(intensity, numTrials)\n",
        "print('Expected number of customers:', np.mean(numCustomers))"
      ],
      "metadata": {
        "id": "FY12U_c5AJbp",
        "outputId": "04fe16d2-d429-4269-b023-d4d64f0434fc",
        "colab": {
          "base_uri": "https://localhost:8080/"
        }
      },
      "execution_count": 1,
      "outputs": [
        {
          "output_type": "stream",
          "name": "stdout",
          "text": [
            "Expected number of customers: 7.5000722\n"
          ]
        }
      ]
    },
    {
      "cell_type": "markdown",
      "source": [
        "## Q1.2"
      ],
      "metadata": {
        "id": "Rl28bgeDflyH"
      }
    },
    {
      "cell_type": "code",
      "source": [
        "numTicketsOnSale = 8\n",
        "numTicketsYouSell = np.minimum(numCustomers, numTicketsOnSale)\n",
        "print('Expected number of tickets you sell:', np.mean(numTicketsYouSell))"
      ],
      "metadata": {
        "id": "KDVvBq5yBFK3",
        "outputId": "edda8812-ddbc-4974-f85d-e4aec546a61b",
        "colab": {
          "base_uri": "https://localhost:8080/"
        }
      },
      "execution_count": 2,
      "outputs": [
        {
          "output_type": "stream",
          "name": "stdout",
          "text": [
            "Expected number of tickets you sell: 6.6391891\n"
          ]
        }
      ]
    },
    {
      "cell_type": "markdown",
      "source": [
        "## Q1.3"
      ],
      "metadata": {
        "id": "UzEeZ8APftfd"
      }
    },
    {
      "cell_type": "code",
      "source": [
        "p = 0.65\n",
        "numArriveOnTime = np.random.binomial(numTicketsYouSell, p)\n",
        "print('Expected number of ticket holders who arrive on time:', np.mean(numArriveOnTime))"
      ],
      "metadata": {
        "id": "eBV2lKSTCN8r",
        "outputId": "c6998eeb-9a5a-4e16-bc5c-2a775fb53276",
        "colab": {
          "base_uri": "https://localhost:8080/"
        }
      },
      "execution_count": 5,
      "outputs": [
        {
          "output_type": "stream",
          "name": "stdout",
          "text": [
            "Expected number of ticket holders who arrive on time: 4.3157313\n"
          ]
        }
      ]
    },
    {
      "cell_type": "markdown",
      "source": [
        "## Q1.4"
      ],
      "metadata": {
        "id": "jY6Xf09qky_h"
      }
    },
    {
      "cell_type": "code",
      "source": [
        "numSeats = 6\n",
        "numDontFly = np.maximum(numArriveOnTime, numSeats)\n",
        "print('Expected number of ticket holders who arrive on time but do not fly:', np.mean(numDontFly))"
      ],
      "metadata": {
        "id": "sB822xB6Ddjg",
        "outputId": "0a3e61f4-b6cf-4d04-cde9-f42cb4c6433c",
        "colab": {
          "base_uri": "https://localhost:8080/"
        }
      },
      "execution_count": 6,
      "outputs": [
        {
          "output_type": "stream",
          "name": "stdout",
          "text": [
            "Expected number of ticket holders who arrive on time but do not fly: 6.1027776\n"
          ]
        }
      ]
    },
    {
      "cell_type": "markdown",
      "source": [
        "#Q1.5"
      ],
      "metadata": {
        "id": "-pwC5u31EE8w"
      }
    },
    {
      "cell_type": "code",
      "source": [
        "price = 200\n",
        "compensation = 1000\n",
        "numOverbooked = np.maximum(numArriveOnTime - numSeats, 0)\n",
        "revenue = price*numTicketsYouSell - numOverbooked*compensation\n",
        "print('Expected revenue in dollars:', np.mean(revenue))"
      ],
      "metadata": {
        "id": "DFhe2mpIEHff",
        "outputId": "90902254-6dc9-4169-a6a4-0d98fd4a8bc3",
        "colab": {
          "base_uri": "https://localhost:8080/"
        }
      },
      "execution_count": 12,
      "outputs": [
        {
          "output_type": "stream",
          "name": "stdout",
          "text": [
            "Expected revenue in dollars: 1225.06022\n"
          ]
        }
      ]
    }
  ]
}